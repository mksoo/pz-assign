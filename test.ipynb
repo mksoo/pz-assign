{
 "cells": [
  {
   "cell_type": "code",
   "execution_count": 8,
   "metadata": {},
   "outputs": [],
   "source": [
    "import pandas as pd\n",
    "import os"
   ]
  },
  {
   "cell_type": "code",
   "execution_count": 23,
   "metadata": {},
   "outputs": [],
   "source": [
    "df = pd.read_csv(\"data\\groove\\info.csv\", encoding='cp949')\n",
    "\n",
    "midi_filenames = df.midi_filename.tolist()\n",
    "dataset_types = df.split.tolist()\n",
    "\n",
    "train_list = []\n",
    "test_list = []\n",
    "val_list = []\n",
    "\n",
    "for i in range(len(midi_filenames)):\n",
    "    if dataset_types[i] == 'train':\n",
    "        train_list.append(midi_filenames[i])\n",
    "    elif dataset_types[i] == 'test':\n",
    "        test_list.append(midi_filenames[i])\n",
    "    else:\n",
    "        val_list.append(midi_filenames[i])"
   ]
  },
  {
   "cell_type": "code",
   "execution_count": 51,
   "metadata": {},
   "outputs": [
    {
     "name": "stdout",
     "output_type": "stream",
     "text": [
      "train :  ['both']\n",
      "Categories (3, object): ['left_only', 'right_only', 'both']\n",
      "val   :  ['left_only']\n",
      "Categories (3, object): ['left_only', 'right_only', 'both']\n",
      "test  :  ['left_only']\n",
      "Categories (3, object): ['left_only', 'right_only', 'both']\n",
      "\n",
      "\n",
      "train :  ['left_only']\n",
      "Categories (3, object): ['left_only', 'right_only', 'both']\n",
      "val   :  ['left_only']\n",
      "Categories (3, object): ['left_only', 'right_only', 'both']\n",
      "test  :  ['both']\n",
      "Categories (3, object): ['left_only', 'right_only', 'both']\n",
      "\n",
      "\n",
      "train :  ['left_only']\n",
      "Categories (3, object): ['left_only', 'right_only', 'both']\n",
      "val   :  ['both']\n",
      "Categories (3, object): ['left_only', 'right_only', 'both']\n",
      "test  :  ['left_only']\n",
      "Categories (3, object): ['left_only', 'right_only', 'both']\n",
      "\n",
      "\n"
     ]
    }
   ],
   "source": [
    "lis = [train_list, test_list, val_list]\n",
    "\n",
    "for li in lis:\n",
    "    df_t = pd.DataFrame(li)\n",
    "    df_t = df_t.rename(columns={0:'midi_filename'})\n",
    "    mgd = pd.merge(df, df_t, how='left', indicator=True)\n",
    "    print('train : ', mgd.loc[mgd['split'] == 'train']['_merge'].unique())\n",
    "    print('val   : ', mgd.loc[mgd['split'] == 'validation']['_merge'].unique())\n",
    "    print('test  : ', mgd.loc[mgd['split'] == 'test']['_merge'].unique())\n",
    "    print('\\n')\n",
    "    "
   ]
  }
 ],
 "metadata": {
  "kernelspec": {
   "display_name": "Python 3.7.13 ('magenta')",
   "language": "python",
   "name": "python3"
  },
  "language_info": {
   "codemirror_mode": {
    "name": "ipython",
    "version": 3
   },
   "file_extension": ".py",
   "mimetype": "text/x-python",
   "name": "python",
   "nbconvert_exporter": "python",
   "pygments_lexer": "ipython3",
   "version": "3.7.13"
  },
  "orig_nbformat": 4,
  "vscode": {
   "interpreter": {
    "hash": "dc043b1f6c1476c0dfa2d0b30f0d9abdfb82f4d46c64e712147679017d888ced"
   }
  }
 },
 "nbformat": 4,
 "nbformat_minor": 2
}
